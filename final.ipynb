{
  "cells": [
    {
      "cell_type": "markdown",
      "metadata": {},
      "source": [
        "## Import necessory libraries"
      ]
    },
    {
      "cell_type": "code",
      "execution_count": 252,
      "metadata": {},
      "outputs": [],
      "source": [
        "import re\n",
        "import sys\n",
        "import os.path\n",
        "import numpy as np\n",
        "import pandas as pd\n",
        "import matplotlib.pyplot as plt\n",
        "from selenium import webdriver\n",
        "from selenium.webdriver.common.by import By\n",
        "\n",
        "from sklearn import linear_model\n",
        "from sklearn.metrics import mean_absolute_error\n",
        "from sklearn.metrics import mean_squared_error\n",
        "from sklearn.preprocessing import PolynomialFeatures"
      ]
    },
    {
      "cell_type": "markdown",
      "metadata": {},
      "source": [
        "## Scrap product records from Aliexpress.com"
      ]
    },
    {
      "cell_type": "code",
      "execution_count": null,
      "metadata": {
        "colab": {
          "base_uri": "https://localhost:8080/"
        },
        "id": "S5RDx7dae0xF",
        "outputId": "65b8d8a4-ba81-48c1-8d32-bd3f48843355"
      },
      "outputs": [],
      "source": [
        "options = webdriver.ChromeOptions()\n",
        "prefs = {'profile.default_content_setting_values': {'images': 2, 'javascript': 2}}\n",
        "options.add_argument(\"headless\")\n",
        "options.add_experimental_option('prefs', prefs)\n",
        "\n",
        "import sys\n",
        "sys.path.insert(0,'/usr/lib/chromium-browser/chromedriver')\n",
        "\n",
        "chrome_options = webdriver.ChromeOptions()\n",
        "chrome_options.add_argument('--headless')\n",
        "chrome_options.add_argument('--no-sandbox')\n",
        "chrome_options.add_argument('--disable-dev-shm-usage')\n",
        "driver = webdriver.Chrome('chromedriver',chrome_options=chrome_options)\n",
        "\n",
        "driver.maximize_window()    \n",
        "\n",
        "def fill_dict(url,v=False):\n",
        "    #fill with page info\n",
        "    item_dict = {}\n",
        "    driver.get(url)\n",
        "\n",
        "    item_dict['Rate'] = None\n",
        "    try:\n",
        "      rate = driver.find_element(By.XPATH, '//span[@class=\"overview-rating-average\"]').text\n",
        "      item_dict['Rate'] = float(rate)\n",
        "    except:\n",
        "      pass\n",
        "\n",
        "    item_dict['Review'] = None\n",
        "    try:\n",
        "      review = driver.find_element(By.XPATH, '//span[@class=\"product-reviewer-reviews black-link\"]').text\n",
        "      review = float(re.findall(r'\\d+', review)[0])\n",
        "      item_dict['Review'] = review\n",
        "    except:\n",
        "      pass\n",
        "\n",
        "    item_dict['Price'] = None\n",
        "    try:\n",
        "      price = driver.find_element(By.XPATH, '//span[@class=\"product-price-value\"]').text\n",
        "      price = float(re.findall(r'\\d+', price)[0])\n",
        "      item_dict['Price'] = price\n",
        "    except:\n",
        "      pass\n",
        "\n",
        "    item_dict['QtyLeft'] = None\n",
        "    try:\n",
        "      left = driver.find_element(By.XPATH, '//div[@class=\"product-quantity-tip\"]').text\n",
        "      left = float(re.findall(r'\\d+', left)[0])\n",
        "      item_dict['QtyLeft'] = left\n",
        "    except:\n",
        "      pass\n",
        "        \n",
        "    item_dict['Sold'] = None\n",
        "    try:\n",
        "      order = driver.find_element(By.XPATH, '//span[@class=\"product-reviewer-sold\"]').text\n",
        "      order = float(re.findall(r'\\d+', order)[0])\n",
        "      item_dict['Sold'] = order\n",
        "    except:\n",
        "      pass\n",
        "\n",
        "    return item_dict"
      ]
    },
    {
      "cell_type": "markdown",
      "metadata": {},
      "source": [
        "### Get sub pages"
      ]
    },
    {
      "cell_type": "code",
      "execution_count": null,
      "metadata": {
        "id": "Nvb2N3s7jq8b"
      },
      "outputs": [],
      "source": [
        "# Get URLS\n",
        "page = \"https://www.aliexpress.com/category/509/cellphones-telecommunications.html?trafficChannel=main&catName=cellphones-telecommunications&CatId=509&ltype=wholesale&SortType=default&page=1&isrefine=y\"\n",
        "\n",
        "driver.get(page)\n",
        "\n",
        "next_page = 1\n",
        "links= []\n",
        "\n",
        "while next_page is not None:\n",
        "    \n",
        "    #read links\n",
        "    item_links = driver.find_elements_by_xpath('//div[@class=\"JIIxO\"]/a')\n",
        "\n",
        "    if len(item_links) == 0:\n",
        "        next_page = None\n",
        "        print(\"No more pages in this category\")\n",
        "    else:\n",
        "        next_page+=1\n",
        "        for il in item_links:\n",
        "            links.append(il.get_attribute(\"href\"))\n",
        "        \n",
        "        driver.get(page +\"?page=\"+str(next_page))\n",
        "    if len(links) > 200000:\n",
        "      break\n",
        "    print(len(links))\n",
        "\n",
        "# Scrap data    \n",
        "fields = []\n",
        "print(\"Getting fieldnames...\")\n",
        "count = 0\n",
        "all_dicts = []\n",
        "if not os.path.exists('data.csv'):\n",
        "    for fl in links:\n",
        "        count += 1\n",
        "        try:\n",
        "            tmp = fill_dict(fl, False)\n",
        "            for key in tmp.keys():\n",
        "                fields.append(key)\n",
        "            all_dicts.append(tmp)\n",
        "            print(count)\n",
        "\n",
        "        except Exception as e:\n",
        "            pass\n",
        "        \n",
        "    df = pd.DataFrame.from_dict(all_dicts)\n",
        "    df.to_csv('data.csv')  \n",
        "driver.close()"
      ]
    },
    {
      "cell_type": "markdown",
      "metadata": {
        "id": "_4KjNag_Hyka"
      },
      "source": [
        "# Pre-Processing"
      ]
    },
    {
      "cell_type": "code",
      "execution_count": 400,
      "metadata": {},
      "outputs": [
        {
          "data": {
            "text/html": [
              "<div>\n",
              "<style scoped>\n",
              "    .dataframe tbody tr th:only-of-type {\n",
              "        vertical-align: middle;\n",
              "    }\n",
              "\n",
              "    .dataframe tbody tr th {\n",
              "        vertical-align: top;\n",
              "    }\n",
              "\n",
              "    .dataframe thead th {\n",
              "        text-align: right;\n",
              "    }\n",
              "</style>\n",
              "<table border=\"1\" class=\"dataframe\">\n",
              "  <thead>\n",
              "    <tr style=\"text-align: right;\">\n",
              "      <th></th>\n",
              "      <th>Rate</th>\n",
              "      <th>Review</th>\n",
              "      <th>Price</th>\n",
              "      <th>QtyLeft</th>\n",
              "      <th>Sold</th>\n",
              "    </tr>\n",
              "  </thead>\n",
              "  <tbody>\n",
              "    <tr>\n",
              "      <th>0</th>\n",
              "      <td>NaN</td>\n",
              "      <td>NaN</td>\n",
              "      <td>7</td>\n",
              "      <td>494</td>\n",
              "      <td>NaN</td>\n",
              "    </tr>\n",
              "    <tr>\n",
              "      <th>1</th>\n",
              "      <td>5.0</td>\n",
              "      <td>3598.0</td>\n",
              "      <td>51</td>\n",
              "      <td>483</td>\n",
              "      <td>4785.0</td>\n",
              "    </tr>\n",
              "    <tr>\n",
              "      <th>2</th>\n",
              "      <td>5.0</td>\n",
              "      <td>1496.0</td>\n",
              "      <td>143</td>\n",
              "      <td>993</td>\n",
              "      <td>2164.0</td>\n",
              "    </tr>\n",
              "    <tr>\n",
              "      <th>3</th>\n",
              "      <td>NaN</td>\n",
              "      <td>NaN</td>\n",
              "      <td>164</td>\n",
              "      <td>996</td>\n",
              "      <td>NaN</td>\n",
              "    </tr>\n",
              "    <tr>\n",
              "      <th>4</th>\n",
              "      <td>5.0</td>\n",
              "      <td>286.0</td>\n",
              "      <td>35</td>\n",
              "      <td>983</td>\n",
              "      <td>399.0</td>\n",
              "    </tr>\n",
              "  </tbody>\n",
              "</table>\n",
              "</div>"
            ],
            "text/plain": [
              "   Rate  Review  Price  QtyLeft    Sold\n",
              "0   NaN     NaN      7      494     NaN\n",
              "1   5.0  3598.0     51      483  4785.0\n",
              "2   5.0  1496.0    143      993  2164.0\n",
              "3   NaN     NaN    164      996     NaN\n",
              "4   5.0   286.0     35      983   399.0"
            ]
          },
          "execution_count": 400,
          "metadata": {},
          "output_type": "execute_result"
        }
      ],
      "source": [
        "df = pd.read_csv('data.csv')\n",
        "df = df[['Rate',\t'Review',\t'Price',\t'QtyLeft',\t'Sold']]\n",
        "df.head()"
      ]
    },
    {
      "cell_type": "markdown",
      "metadata": {},
      "source": [
        "### Drop NAN Values"
      ]
    },
    {
      "cell_type": "code",
      "execution_count": 401,
      "metadata": {},
      "outputs": [
        {
          "data": {
            "text/html": [
              "<div>\n",
              "<style scoped>\n",
              "    .dataframe tbody tr th:only-of-type {\n",
              "        vertical-align: middle;\n",
              "    }\n",
              "\n",
              "    .dataframe tbody tr th {\n",
              "        vertical-align: top;\n",
              "    }\n",
              "\n",
              "    .dataframe thead th {\n",
              "        text-align: right;\n",
              "    }\n",
              "</style>\n",
              "<table border=\"1\" class=\"dataframe\">\n",
              "  <thead>\n",
              "    <tr style=\"text-align: right;\">\n",
              "      <th></th>\n",
              "      <th>Rate</th>\n",
              "      <th>Review</th>\n",
              "      <th>Price</th>\n",
              "      <th>QtyLeft</th>\n",
              "      <th>Sold</th>\n",
              "    </tr>\n",
              "  </thead>\n",
              "  <tbody>\n",
              "    <tr>\n",
              "      <th>1</th>\n",
              "      <td>5.0</td>\n",
              "      <td>3598.0</td>\n",
              "      <td>51</td>\n",
              "      <td>483</td>\n",
              "      <td>4785.0</td>\n",
              "    </tr>\n",
              "    <tr>\n",
              "      <th>2</th>\n",
              "      <td>5.0</td>\n",
              "      <td>1496.0</td>\n",
              "      <td>143</td>\n",
              "      <td>993</td>\n",
              "      <td>2164.0</td>\n",
              "    </tr>\n",
              "    <tr>\n",
              "      <th>4</th>\n",
              "      <td>5.0</td>\n",
              "      <td>286.0</td>\n",
              "      <td>35</td>\n",
              "      <td>983</td>\n",
              "      <td>399.0</td>\n",
              "    </tr>\n",
              "    <tr>\n",
              "      <th>5</th>\n",
              "      <td>5.0</td>\n",
              "      <td>7210.0</td>\n",
              "      <td>51</td>\n",
              "      <td>483</td>\n",
              "      <td>10434.0</td>\n",
              "    </tr>\n",
              "    <tr>\n",
              "      <th>7</th>\n",
              "      <td>5.0</td>\n",
              "      <td>3556.0</td>\n",
              "      <td>10</td>\n",
              "      <td>490</td>\n",
              "      <td>5129.0</td>\n",
              "    </tr>\n",
              "    <tr>\n",
              "      <th>...</th>\n",
              "      <td>...</td>\n",
              "      <td>...</td>\n",
              "      <td>...</td>\n",
              "      <td>...</td>\n",
              "      <td>...</td>\n",
              "    </tr>\n",
              "    <tr>\n",
              "      <th>164016</th>\n",
              "      <td>5.0</td>\n",
              "      <td>4566.0</td>\n",
              "      <td>51</td>\n",
              "      <td>483</td>\n",
              "      <td>6427.0</td>\n",
              "    </tr>\n",
              "    <tr>\n",
              "      <th>164017</th>\n",
              "      <td>5.0</td>\n",
              "      <td>22405.0</td>\n",
              "      <td>51</td>\n",
              "      <td>483</td>\n",
              "      <td>35052.0</td>\n",
              "    </tr>\n",
              "    <tr>\n",
              "      <th>164021</th>\n",
              "      <td>5.0</td>\n",
              "      <td>13742.0</td>\n",
              "      <td>51</td>\n",
              "      <td>483</td>\n",
              "      <td>20913.0</td>\n",
              "    </tr>\n",
              "    <tr>\n",
              "      <th>164023</th>\n",
              "      <td>5.0</td>\n",
              "      <td>26353.0</td>\n",
              "      <td>51</td>\n",
              "      <td>483</td>\n",
              "      <td>45684.0</td>\n",
              "    </tr>\n",
              "    <tr>\n",
              "      <th>164024</th>\n",
              "      <td>5.0</td>\n",
              "      <td>1895.0</td>\n",
              "      <td>10</td>\n",
              "      <td>490</td>\n",
              "      <td>2658.0</td>\n",
              "    </tr>\n",
              "  </tbody>\n",
              "</table>\n",
              "<p>104620 rows × 5 columns</p>\n",
              "</div>"
            ],
            "text/plain": [
              "        Rate   Review  Price  QtyLeft     Sold\n",
              "1        5.0   3598.0     51      483   4785.0\n",
              "2        5.0   1496.0    143      993   2164.0\n",
              "4        5.0    286.0     35      983    399.0\n",
              "5        5.0   7210.0     51      483  10434.0\n",
              "7        5.0   3556.0     10      490   5129.0\n",
              "...      ...      ...    ...      ...      ...\n",
              "164016   5.0   4566.0     51      483   6427.0\n",
              "164017   5.0  22405.0     51      483  35052.0\n",
              "164021   5.0  13742.0     51      483  20913.0\n",
              "164023   5.0  26353.0     51      483  45684.0\n",
              "164024   5.0   1895.0     10      490   2658.0\n",
              "\n",
              "[104620 rows x 5 columns]"
            ]
          },
          "execution_count": 401,
          "metadata": {},
          "output_type": "execute_result"
        }
      ],
      "source": [
        "df =df.dropna()\n",
        "df"
      ]
    },
    {
      "cell_type": "markdown",
      "metadata": {},
      "source": [
        "### Sort data by sold"
      ]
    },
    {
      "cell_type": "code",
      "execution_count": 402,
      "metadata": {},
      "outputs": [
        {
          "data": {
            "text/html": [
              "<div>\n",
              "<style scoped>\n",
              "    .dataframe tbody tr th:only-of-type {\n",
              "        vertical-align: middle;\n",
              "    }\n",
              "\n",
              "    .dataframe tbody tr th {\n",
              "        vertical-align: top;\n",
              "    }\n",
              "\n",
              "    .dataframe thead th {\n",
              "        text-align: right;\n",
              "    }\n",
              "</style>\n",
              "<table border=\"1\" class=\"dataframe\">\n",
              "  <thead>\n",
              "    <tr style=\"text-align: right;\">\n",
              "      <th></th>\n",
              "      <th>Index</th>\n",
              "      <th>Rate</th>\n",
              "      <th>Review</th>\n",
              "      <th>Price</th>\n",
              "      <th>QtyLeft</th>\n",
              "      <th>Sold</th>\n",
              "    </tr>\n",
              "  </thead>\n",
              "  <tbody>\n",
              "    <tr>\n",
              "      <th>79248</th>\n",
              "      <td>0</td>\n",
              "      <td>5.0</td>\n",
              "      <td>1.0</td>\n",
              "      <td>10</td>\n",
              "      <td>490</td>\n",
              "      <td>5.0</td>\n",
              "    </tr>\n",
              "    <tr>\n",
              "      <th>68589</th>\n",
              "      <td>1</td>\n",
              "      <td>5.0</td>\n",
              "      <td>1.0</td>\n",
              "      <td>10</td>\n",
              "      <td>490</td>\n",
              "      <td>5.0</td>\n",
              "    </tr>\n",
              "    <tr>\n",
              "      <th>134924</th>\n",
              "      <td>2</td>\n",
              "      <td>5.0</td>\n",
              "      <td>1.0</td>\n",
              "      <td>10</td>\n",
              "      <td>490</td>\n",
              "      <td>5.0</td>\n",
              "    </tr>\n",
              "    <tr>\n",
              "      <th>9940</th>\n",
              "      <td>3</td>\n",
              "      <td>5.0</td>\n",
              "      <td>2.0</td>\n",
              "      <td>35</td>\n",
              "      <td>983</td>\n",
              "      <td>6.0</td>\n",
              "    </tr>\n",
              "    <tr>\n",
              "      <th>34526</th>\n",
              "      <td>4</td>\n",
              "      <td>5.0</td>\n",
              "      <td>2.0</td>\n",
              "      <td>143</td>\n",
              "      <td>993</td>\n",
              "      <td>6.0</td>\n",
              "    </tr>\n",
              "    <tr>\n",
              "      <th>...</th>\n",
              "      <td>...</td>\n",
              "      <td>...</td>\n",
              "      <td>...</td>\n",
              "      <td>...</td>\n",
              "      <td>...</td>\n",
              "      <td>...</td>\n",
              "    </tr>\n",
              "    <tr>\n",
              "      <th>133189</th>\n",
              "      <td>104615</td>\n",
              "      <td>5.0</td>\n",
              "      <td>29964.0</td>\n",
              "      <td>51</td>\n",
              "      <td>483</td>\n",
              "      <td>55791.0</td>\n",
              "    </tr>\n",
              "    <tr>\n",
              "      <th>76221</th>\n",
              "      <td>104616</td>\n",
              "      <td>5.0</td>\n",
              "      <td>29990.0</td>\n",
              "      <td>51</td>\n",
              "      <td>483</td>\n",
              "      <td>55799.0</td>\n",
              "    </tr>\n",
              "    <tr>\n",
              "      <th>123091</th>\n",
              "      <td>104617</td>\n",
              "      <td>5.0</td>\n",
              "      <td>29911.0</td>\n",
              "      <td>51</td>\n",
              "      <td>483</td>\n",
              "      <td>55851.0</td>\n",
              "    </tr>\n",
              "    <tr>\n",
              "      <th>117795</th>\n",
              "      <td>104618</td>\n",
              "      <td>5.0</td>\n",
              "      <td>29930.0</td>\n",
              "      <td>51</td>\n",
              "      <td>483</td>\n",
              "      <td>55869.0</td>\n",
              "    </tr>\n",
              "    <tr>\n",
              "      <th>82277</th>\n",
              "      <td>104619</td>\n",
              "      <td>5.0</td>\n",
              "      <td>29977.0</td>\n",
              "      <td>51</td>\n",
              "      <td>483</td>\n",
              "      <td>55902.0</td>\n",
              "    </tr>\n",
              "  </tbody>\n",
              "</table>\n",
              "<p>104620 rows × 6 columns</p>\n",
              "</div>"
            ],
            "text/plain": [
              "         Index  Rate   Review  Price  QtyLeft     Sold\n",
              "79248        0   5.0      1.0     10      490      5.0\n",
              "68589        1   5.0      1.0     10      490      5.0\n",
              "134924       2   5.0      1.0     10      490      5.0\n",
              "9940         3   5.0      2.0     35      983      6.0\n",
              "34526        4   5.0      2.0    143      993      6.0\n",
              "...        ...   ...      ...    ...      ...      ...\n",
              "133189  104615   5.0  29964.0     51      483  55791.0\n",
              "76221   104616   5.0  29990.0     51      483  55799.0\n",
              "123091  104617   5.0  29911.0     51      483  55851.0\n",
              "117795  104618   5.0  29930.0     51      483  55869.0\n",
              "82277   104619   5.0  29977.0     51      483  55902.0\n",
              "\n",
              "[104620 rows x 6 columns]"
            ]
          },
          "execution_count": 402,
          "metadata": {},
          "output_type": "execute_result"
        }
      ],
      "source": [
        "df = df.sort_values(by=['Sold'])\n",
        "df.insert(loc=0, column='Index', value=list(range(len(df))))\n",
        "df"
      ]
    },
    {
      "cell_type": "markdown",
      "metadata": {},
      "source": [
        "## EDA"
      ]
    },
    {
      "cell_type": "markdown",
      "metadata": {},
      "source": [
        "### Histogram of categories"
      ]
    },
    {
      "cell_type": "code",
      "execution_count": 404,
      "metadata": {},
      "outputs": [
        {
          "data": {
            "text/plain": [
              "<AxesSubplot:ylabel='Frequency'>"
            ]
          },
          "execution_count": 404,
          "metadata": {},
          "output_type": "execute_result"
        },
        {
          "data": {
            "image/png": "[encoded data removed]",
            "text/plain": [
              "<Figure size 864x504 with 4 Axes>"
            ]
          },
          "metadata": {
            "needs_background": "light"
          },
          "output_type": "display_data"
        }
      ],
      "source": [
        "fig, axes = plt.subplots(nrows=2, ncols=2, figsize=(12, 7))\n",
        "df['Rate'].plot.hist(bins=3, ax=axes[0, 0])\n",
        "df['Review'].plot.hist(bins=6, ax=axes[0, 1])\n",
        "df['Price'].plot.hist(bins=5, ax=axes[1, 0])\n",
        "df['QtyLeft'].plot.hist(bins=5, ax=axes[1, 1])"
      ]
    },
    {
      "cell_type": "code",
      "execution_count": 405,
      "metadata": {},
      "outputs": [
        {
          "data": {
            "text/html": [
              "<div>\n",
              "<style scoped>\n",
              "    .dataframe tbody tr th:only-of-type {\n",
              "        vertical-align: middle;\n",
              "    }\n",
              "\n",
              "    .dataframe tbody tr th {\n",
              "        vertical-align: top;\n",
              "    }\n",
              "\n",
              "    .dataframe thead th {\n",
              "        text-align: right;\n",
              "    }\n",
              "</style>\n",
              "<table border=\"1\" class=\"dataframe\">\n",
              "  <thead>\n",
              "    <tr style=\"text-align: right;\">\n",
              "      <th></th>\n",
              "      <th>Index</th>\n",
              "      <th>Rate</th>\n",
              "      <th>Review</th>\n",
              "      <th>Price</th>\n",
              "      <th>QtyLeft</th>\n",
              "      <th>Sold</th>\n",
              "    </tr>\n",
              "  </thead>\n",
              "  <tbody>\n",
              "    <tr>\n",
              "      <th>count</th>\n",
              "      <td>104620.000000</td>\n",
              "      <td>104620.000000</td>\n",
              "      <td>104620.000000</td>\n",
              "      <td>104620.000000</td>\n",
              "      <td>104620.000000</td>\n",
              "      <td>104620.000000</td>\n",
              "    </tr>\n",
              "    <tr>\n",
              "      <th>mean</th>\n",
              "      <td>52309.500000</td>\n",
              "      <td>4.995788</td>\n",
              "      <td>7720.674355</td>\n",
              "      <td>45.471669</td>\n",
              "      <td>1196.745747</td>\n",
              "      <td>11886.488798</td>\n",
              "    </tr>\n",
              "    <tr>\n",
              "      <th>std</th>\n",
              "      <td>30201.336919</td>\n",
              "      <td>0.034165</td>\n",
              "      <td>8075.637955</td>\n",
              "      <td>36.049896</td>\n",
              "      <td>6228.274911</td>\n",
              "      <td>13558.083961</td>\n",
              "    </tr>\n",
              "    <tr>\n",
              "      <th>min</th>\n",
              "      <td>0.000000</td>\n",
              "      <td>4.600000</td>\n",
              "      <td>1.000000</td>\n",
              "      <td>3.000000</td>\n",
              "      <td>53.000000</td>\n",
              "      <td>5.000000</td>\n",
              "    </tr>\n",
              "    <tr>\n",
              "      <th>25%</th>\n",
              "      <td>26154.750000</td>\n",
              "      <td>5.000000</td>\n",
              "      <td>1862.000000</td>\n",
              "      <td>10.000000</td>\n",
              "      <td>483.000000</td>\n",
              "      <td>2585.000000</td>\n",
              "    </tr>\n",
              "    <tr>\n",
              "      <th>50%</th>\n",
              "      <td>52309.500000</td>\n",
              "      <td>5.000000</td>\n",
              "      <td>4504.000000</td>\n",
              "      <td>51.000000</td>\n",
              "      <td>490.000000</td>\n",
              "      <td>6284.000000</td>\n",
              "    </tr>\n",
              "    <tr>\n",
              "      <th>75%</th>\n",
              "      <td>78464.250000</td>\n",
              "      <td>5.000000</td>\n",
              "      <td>11198.000000</td>\n",
              "      <td>51.000000</td>\n",
              "      <td>983.000000</td>\n",
              "      <td>16133.000000</td>\n",
              "    </tr>\n",
              "    <tr>\n",
              "      <th>max</th>\n",
              "      <td>104619.000000</td>\n",
              "      <td>5.000000</td>\n",
              "      <td>29999.000000</td>\n",
              "      <td>143.000000</td>\n",
              "      <td>91434.000000</td>\n",
              "      <td>55902.000000</td>\n",
              "    </tr>\n",
              "  </tbody>\n",
              "</table>\n",
              "</div>"
            ],
            "text/plain": [
              "               Index           Rate         Review          Price  \\\n",
              "count  104620.000000  104620.000000  104620.000000  104620.000000   \n",
              "mean    52309.500000       4.995788    7720.674355      45.471669   \n",
              "std     30201.336919       0.034165    8075.637955      36.049896   \n",
              "min         0.000000       4.600000       1.000000       3.000000   \n",
              "25%     26154.750000       5.000000    1862.000000      10.000000   \n",
              "50%     52309.500000       5.000000    4504.000000      51.000000   \n",
              "75%     78464.250000       5.000000   11198.000000      51.000000   \n",
              "max    104619.000000       5.000000   29999.000000     143.000000   \n",
              "\n",
              "             QtyLeft           Sold  \n",
              "count  104620.000000  104620.000000  \n",
              "mean     1196.745747   11886.488798  \n",
              "std      6228.274911   13558.083961  \n",
              "min        53.000000       5.000000  \n",
              "25%       483.000000    2585.000000  \n",
              "50%       490.000000    6284.000000  \n",
              "75%       983.000000   16133.000000  \n",
              "max     91434.000000   55902.000000  "
            ]
          },
          "execution_count": 405,
          "metadata": {},
          "output_type": "execute_result"
        }
      ],
      "source": [
        "df.describe()"
      ]
    },
    {
      "cell_type": "markdown",
      "metadata": {},
      "source": [
        "### Plot of normalized data"
      ]
    },
    {
      "cell_type": "code",
      "execution_count": 406,
      "metadata": {},
      "outputs": [],
      "source": [
        "normalized_df=df/df.max()\n",
        "normalized_df['Index'] = df['Index']"
      ]
    },
    {
      "cell_type": "code",
      "execution_count": 407,
      "metadata": {},
      "outputs": [
        {
          "data": {
            "text/plain": [
              "<AxesSubplot:xlabel='Index'>"
            ]
          },
          "execution_count": 407,
          "metadata": {},
          "output_type": "execute_result"
        },
        {
          "data": {
            "image/png": "[encoded data removed]",
            "text/plain": [
              "<Figure size 720x360 with 4 Axes>"
            ]
          },
          "metadata": {
            "needs_background": "light"
          },
          "output_type": "display_data"
        }
      ],
      "source": [
        "fig, axes = plt.subplots(nrows=2, ncols=2, figsize=(10, 5))\n",
        "\n",
        "normalized_df.plot(x = \"Index\", y=['Rate', 'Sold'], ax=axes[0, 0])\n",
        "normalized_df.plot(x = \"Index\", y=['Review', 'Sold'], ax=axes[0, 1])\n",
        "normalized_df.plot(x = \"Index\", y=['Price', 'Sold'], ax=axes[1, 0])\n",
        "normalized_df.plot(x = \"Index\", y=['QtyLeft', 'Sold'], ax=axes[1, 1])"
      ]
    },
    {
      "cell_type": "markdown",
      "metadata": {},
      "source": [
        "### Correlation analysis"
      ]
    },
    {
      "cell_type": "code",
      "execution_count": 408,
      "metadata": {},
      "outputs": [
        {
          "data": {
            "text/html": [
              "<div>\n",
              "<style scoped>\n",
              "    .dataframe tbody tr th:only-of-type {\n",
              "        vertical-align: middle;\n",
              "    }\n",
              "\n",
              "    .dataframe tbody tr th {\n",
              "        vertical-align: top;\n",
              "    }\n",
              "\n",
              "    .dataframe thead th {\n",
              "        text-align: right;\n",
              "    }\n",
              "</style>\n",
              "<table border=\"1\" class=\"dataframe\">\n",
              "  <thead>\n",
              "    <tr style=\"text-align: right;\">\n",
              "      <th></th>\n",
              "      <th>Rate</th>\n",
              "      <th>Review</th>\n",
              "      <th>Price</th>\n",
              "      <th>QtyLeft</th>\n",
              "      <th>Sold</th>\n",
              "    </tr>\n",
              "  </thead>\n",
              "  <tbody>\n",
              "    <tr>\n",
              "      <th>Rate</th>\n",
              "      <td>1.000000</td>\n",
              "      <td>0.083100</td>\n",
              "      <td>0.127708</td>\n",
              "      <td>-0.678658</td>\n",
              "      <td>0.079195</td>\n",
              "    </tr>\n",
              "    <tr>\n",
              "      <th>Review</th>\n",
              "      <td>0.083100</td>\n",
              "      <td>1.000000</td>\n",
              "      <td>0.022763</td>\n",
              "      <td>-0.069250</td>\n",
              "      <td>0.996307</td>\n",
              "    </tr>\n",
              "    <tr>\n",
              "      <th>Price</th>\n",
              "      <td>0.127708</td>\n",
              "      <td>0.022763</td>\n",
              "      <td>1.000000</td>\n",
              "      <td>-0.062581</td>\n",
              "      <td>0.031255</td>\n",
              "    </tr>\n",
              "    <tr>\n",
              "      <th>QtyLeft</th>\n",
              "      <td>-0.678658</td>\n",
              "      <td>-0.069250</td>\n",
              "      <td>-0.062581</td>\n",
              "      <td>1.000000</td>\n",
              "      <td>-0.066934</td>\n",
              "    </tr>\n",
              "    <tr>\n",
              "      <th>Sold</th>\n",
              "      <td>0.079195</td>\n",
              "      <td>0.996307</td>\n",
              "      <td>0.031255</td>\n",
              "      <td>-0.066934</td>\n",
              "      <td>1.000000</td>\n",
              "    </tr>\n",
              "  </tbody>\n",
              "</table>\n",
              "</div>"
            ],
            "text/plain": [
              "             Rate    Review     Price   QtyLeft      Sold\n",
              "Rate     1.000000  0.083100  0.127708 -0.678658  0.079195\n",
              "Review   0.083100  1.000000  0.022763 -0.069250  0.996307\n",
              "Price    0.127708  0.022763  1.000000 -0.062581  0.031255\n",
              "QtyLeft -0.678658 -0.069250 -0.062581  1.000000 -0.066934\n",
              "Sold     0.079195  0.996307  0.031255 -0.066934  1.000000"
            ]
          },
          "execution_count": 408,
          "metadata": {},
          "output_type": "execute_result"
        }
      ],
      "source": [
        "df[['Rate', 'Review', 'Price', 'QtyLeft', 'Sold']].corr(method ='pearson')"
      ]
    },
    {
      "cell_type": "markdown",
      "metadata": {},
      "source": [
        "*From above graph and correlation coefficients, we can see that the review have high absolute coefficient with sold*"
      ]
    },
    {
      "cell_type": "markdown",
      "metadata": {},
      "source": [
        "# Predict Sold using Review"
      ]
    },
    {
      "cell_type": "markdown",
      "metadata": {},
      "source": [
        "## 1. Linear Regression"
      ]
    },
    {
      "cell_type": "code",
      "execution_count": 409,
      "metadata": {},
      "outputs": [
        {
          "data": {
            "text/plain": [
              "LinearRegression()"
            ]
          },
          "execution_count": 409,
          "metadata": {},
          "output_type": "execute_result"
        }
      ],
      "source": [
        "X = df[['Review']]\n",
        "y = df['Sold']\n",
        "\n",
        "linear_reg = linear_model.LinearRegression()\n",
        "linear_reg.fit(X, y)"
      ]
    },
    {
      "cell_type": "markdown",
      "metadata": {},
      "source": [
        "### Calculate MAE and RMSE"
      ]
    },
    {
      "cell_type": "code",
      "execution_count": 410,
      "metadata": {},
      "outputs": [
        {
          "name": "stdout",
          "output_type": "stream",
          "text": [
            "MAE: 798.5584591856242, RMSE: 1140.4378982189828\n"
          ]
        }
      ],
      "source": [
        "yhat = linear_reg.predict(X)\n",
        "yhat[yhat < 0] = 2\n",
        "yhat = [int(y_val) for y_val in yhat]\n",
        "\n",
        "MAE = mean_absolute_error(y, yhat)\n",
        "RMSE = np.sqrt(mean_squared_error(y, yhat))\n",
        "print(\"MAE: {}, RMSE: {}\" .format(MAE, RMSE))"
      ]
    },
    {
      "cell_type": "code",
      "execution_count": 411,
      "metadata": {},
      "outputs": [
        {
          "data": {
            "text/html": [
              "<div>\n",
              "<style scoped>\n",
              "    .dataframe tbody tr th:only-of-type {\n",
              "        vertical-align: middle;\n",
              "    }\n",
              "\n",
              "    .dataframe tbody tr th {\n",
              "        vertical-align: top;\n",
              "    }\n",
              "\n",
              "    .dataframe thead th {\n",
              "        text-align: right;\n",
              "    }\n",
              "</style>\n",
              "<table border=\"1\" class=\"dataframe\">\n",
              "  <thead>\n",
              "    <tr style=\"text-align: right;\">\n",
              "      <th></th>\n",
              "      <th>Index</th>\n",
              "      <th>Rate</th>\n",
              "      <th>Review</th>\n",
              "      <th>Price</th>\n",
              "      <th>QtyLeft</th>\n",
              "      <th>Sold</th>\n",
              "      <th>pred_sold</th>\n",
              "      <th>Diff(%)</th>\n",
              "    </tr>\n",
              "  </thead>\n",
              "  <tbody>\n",
              "    <tr>\n",
              "      <th>104610</th>\n",
              "      <td>104610</td>\n",
              "      <td>5.0</td>\n",
              "      <td>29920.0</td>\n",
              "      <td>51</td>\n",
              "      <td>483</td>\n",
              "      <td>55648.0</td>\n",
              "      <td>49019</td>\n",
              "      <td>11.912378</td>\n",
              "    </tr>\n",
              "    <tr>\n",
              "      <th>104611</th>\n",
              "      <td>104611</td>\n",
              "      <td>5.0</td>\n",
              "      <td>29977.0</td>\n",
              "      <td>51</td>\n",
              "      <td>483</td>\n",
              "      <td>55703.0</td>\n",
              "      <td>49114</td>\n",
              "      <td>11.828806</td>\n",
              "    </tr>\n",
              "    <tr>\n",
              "      <th>104612</th>\n",
              "      <td>104612</td>\n",
              "      <td>5.0</td>\n",
              "      <td>29914.0</td>\n",
              "      <td>51</td>\n",
              "      <td>483</td>\n",
              "      <td>55710.0</td>\n",
              "      <td>49008</td>\n",
              "      <td>12.030156</td>\n",
              "    </tr>\n",
              "    <tr>\n",
              "      <th>104613</th>\n",
              "      <td>104613</td>\n",
              "      <td>5.0</td>\n",
              "      <td>29933.0</td>\n",
              "      <td>51</td>\n",
              "      <td>483</td>\n",
              "      <td>55786.0</td>\n",
              "      <td>49040</td>\n",
              "      <td>12.092640</td>\n",
              "    </tr>\n",
              "    <tr>\n",
              "      <th>104614</th>\n",
              "      <td>104614</td>\n",
              "      <td>5.0</td>\n",
              "      <td>29975.0</td>\n",
              "      <td>51</td>\n",
              "      <td>483</td>\n",
              "      <td>55786.0</td>\n",
              "      <td>49111</td>\n",
              "      <td>11.965368</td>\n",
              "    </tr>\n",
              "    <tr>\n",
              "      <th>104615</th>\n",
              "      <td>104615</td>\n",
              "      <td>5.0</td>\n",
              "      <td>29964.0</td>\n",
              "      <td>51</td>\n",
              "      <td>483</td>\n",
              "      <td>55791.0</td>\n",
              "      <td>49092</td>\n",
              "      <td>12.007313</td>\n",
              "    </tr>\n",
              "    <tr>\n",
              "      <th>104616</th>\n",
              "      <td>104616</td>\n",
              "      <td>5.0</td>\n",
              "      <td>29990.0</td>\n",
              "      <td>51</td>\n",
              "      <td>483</td>\n",
              "      <td>55799.0</td>\n",
              "      <td>49136</td>\n",
              "      <td>11.941074</td>\n",
              "    </tr>\n",
              "    <tr>\n",
              "      <th>104617</th>\n",
              "      <td>104617</td>\n",
              "      <td>5.0</td>\n",
              "      <td>29911.0</td>\n",
              "      <td>51</td>\n",
              "      <td>483</td>\n",
              "      <td>55851.0</td>\n",
              "      <td>49003</td>\n",
              "      <td>12.261195</td>\n",
              "    </tr>\n",
              "    <tr>\n",
              "      <th>104618</th>\n",
              "      <td>104618</td>\n",
              "      <td>5.0</td>\n",
              "      <td>29930.0</td>\n",
              "      <td>51</td>\n",
              "      <td>483</td>\n",
              "      <td>55869.0</td>\n",
              "      <td>49035</td>\n",
              "      <td>12.232186</td>\n",
              "    </tr>\n",
              "    <tr>\n",
              "      <th>104619</th>\n",
              "      <td>104619</td>\n",
              "      <td>5.0</td>\n",
              "      <td>29977.0</td>\n",
              "      <td>51</td>\n",
              "      <td>483</td>\n",
              "      <td>55902.0</td>\n",
              "      <td>49114</td>\n",
              "      <td>12.142678</td>\n",
              "    </tr>\n",
              "  </tbody>\n",
              "</table>\n",
              "</div>"
            ],
            "text/plain": [
              "         Index  Rate   Review  Price  QtyLeft     Sold  pred_sold    Diff(%)\n",
              "104610  104610   5.0  29920.0     51      483  55648.0      49019  11.912378\n",
              "104611  104611   5.0  29977.0     51      483  55703.0      49114  11.828806\n",
              "104612  104612   5.0  29914.0     51      483  55710.0      49008  12.030156\n",
              "104613  104613   5.0  29933.0     51      483  55786.0      49040  12.092640\n",
              "104614  104614   5.0  29975.0     51      483  55786.0      49111  11.965368\n",
              "104615  104615   5.0  29964.0     51      483  55791.0      49092  12.007313\n",
              "104616  104616   5.0  29990.0     51      483  55799.0      49136  11.941074\n",
              "104617  104617   5.0  29911.0     51      483  55851.0      49003  12.261195\n",
              "104618  104618   5.0  29930.0     51      483  55869.0      49035  12.232186\n",
              "104619  104619   5.0  29977.0     51      483  55902.0      49114  12.142678"
            ]
          },
          "execution_count": 411,
          "metadata": {},
          "output_type": "execute_result"
        }
      ],
      "source": [
        "pred_df = df\n",
        "pred_df['pred_sold'] = yhat\n",
        "pred_df = pred_df.reset_index(drop=True)\n",
        "pred_df['Diff(%)'] = abs(pred_df['Sold']-pred_df['pred_sold'])/pred_df['Sold']*100\n",
        "pred_df.tail(10)"
      ]
    },
    {
      "cell_type": "markdown",
      "metadata": {},
      "source": [
        "### Average difference by linear regression model"
      ]
    },
    {
      "cell_type": "code",
      "execution_count": 412,
      "metadata": {},
      "outputs": [
        {
          "name": "stdout",
          "output_type": "stream",
          "text": [
            "Average Difference: 20.61186197853028\n"
          ]
        }
      ],
      "source": [
        "print(\"Average Difference: {}\" .format(pred_df['Diff(%)'].mean()))"
      ]
    },
    {
      "cell_type": "markdown",
      "metadata": {},
      "source": [
        "## Plynomial Regression "
      ]
    },
    {
      "cell_type": "code",
      "execution_count": 390,
      "metadata": {},
      "outputs": [
        {
          "data": {
            "text/plain": [
              "LinearRegression()"
            ]
          },
          "execution_count": 390,
          "metadata": {},
          "output_type": "execute_result"
        }
      ],
      "source": [
        "poly = PolynomialFeatures(degree = 3)\n",
        "X_poly = poly.fit_transform(X)\n",
        " \n",
        "poly.fit(X_poly, y)\n",
        "poly_reg = linear_model.LinearRegression()\n",
        "poly_reg.fit(X_poly, y)"
      ]
    },
    {
      "cell_type": "markdown",
      "metadata": {},
      "source": [
        "### Calculate MAE and RMSE"
      ]
    },
    {
      "cell_type": "code",
      "execution_count": 391,
      "metadata": {},
      "outputs": [
        {
          "name": "stdout",
          "output_type": "stream",
          "text": [
            "MAE: 544.8205344987459, RMSE: 1032.1885322393762\n"
          ]
        }
      ],
      "source": [
        "yhat = poly_reg.predict(X_poly)\n",
        "MAE = mean_absolute_error(y, yhat)\n",
        "RMSE = np.sqrt(mean_squared_error(y, yhat))\n",
        "print(\"MAE: {}, RMSE: {}\" .format(MAE, RMSE))"
      ]
    },
    {
      "cell_type": "markdown",
      "metadata": {},
      "source": [
        "## Theoretical Question:\n",
        "Can we predict the sold units using review?"
      ]
    },
    {
      "cell_type": "code",
      "execution_count": 392,
      "metadata": {},
      "outputs": [
        {
          "data": {
            "text/html": [
              "<div>\n",
              "<style scoped>\n",
              "    .dataframe tbody tr th:only-of-type {\n",
              "        vertical-align: middle;\n",
              "    }\n",
              "\n",
              "    .dataframe tbody tr th {\n",
              "        vertical-align: top;\n",
              "    }\n",
              "\n",
              "    .dataframe thead th {\n",
              "        text-align: right;\n",
              "    }\n",
              "</style>\n",
              "<table border=\"1\" class=\"dataframe\">\n",
              "  <thead>\n",
              "    <tr style=\"text-align: right;\">\n",
              "      <th></th>\n",
              "      <th>Index</th>\n",
              "      <th>Unnamed: 0</th>\n",
              "      <th>Rate</th>\n",
              "      <th>Review</th>\n",
              "      <th>Price</th>\n",
              "      <th>Left</th>\n",
              "      <th>Sold</th>\n",
              "      <th>pred_sold</th>\n",
              "      <th>Diff(%)</th>\n",
              "    </tr>\n",
              "  </thead>\n",
              "  <tbody>\n",
              "    <tr>\n",
              "      <th>104610</th>\n",
              "      <td>104610</td>\n",
              "      <td>76709</td>\n",
              "      <td>5.0</td>\n",
              "      <td>29297.0</td>\n",
              "      <td>51</td>\n",
              "      <td>483</td>\n",
              "      <td>59639.0</td>\n",
              "      <td>51698.086967</td>\n",
              "      <td>13.314967</td>\n",
              "    </tr>\n",
              "    <tr>\n",
              "      <th>104611</th>\n",
              "      <td>104611</td>\n",
              "      <td>95761</td>\n",
              "      <td>5.0</td>\n",
              "      <td>28867.0</td>\n",
              "      <td>51</td>\n",
              "      <td>483</td>\n",
              "      <td>59649.0</td>\n",
              "      <td>50626.867306</td>\n",
              "      <td>15.125371</td>\n",
              "    </tr>\n",
              "    <tr>\n",
              "      <th>104612</th>\n",
              "      <td>104612</td>\n",
              "      <td>121496</td>\n",
              "      <td>5.0</td>\n",
              "      <td>29992.0</td>\n",
              "      <td>51</td>\n",
              "      <td>483</td>\n",
              "      <td>60198.0</td>\n",
              "      <td>53458.964493</td>\n",
              "      <td>11.194783</td>\n",
              "    </tr>\n",
              "    <tr>\n",
              "      <th>104613</th>\n",
              "      <td>104613</td>\n",
              "      <td>76975</td>\n",
              "      <td>5.0</td>\n",
              "      <td>29784.0</td>\n",
              "      <td>51</td>\n",
              "      <td>483</td>\n",
              "      <td>60223.0</td>\n",
              "      <td>52928.108975</td>\n",
              "      <td>12.113131</td>\n",
              "    </tr>\n",
              "    <tr>\n",
              "      <th>104614</th>\n",
              "      <td>104614</td>\n",
              "      <td>150304</td>\n",
              "      <td>5.0</td>\n",
              "      <td>29887.0</td>\n",
              "      <td>51</td>\n",
              "      <td>483</td>\n",
              "      <td>60467.0</td>\n",
              "      <td>53190.569859</td>\n",
              "      <td>12.033721</td>\n",
              "    </tr>\n",
              "    <tr>\n",
              "      <th>104615</th>\n",
              "      <td>104615</td>\n",
              "      <td>73998</td>\n",
              "      <td>5.0</td>\n",
              "      <td>29494.0</td>\n",
              "      <td>51</td>\n",
              "      <td>483</td>\n",
              "      <td>60484.0</td>\n",
              "      <td>52193.487738</td>\n",
              "      <td>13.706951</td>\n",
              "    </tr>\n",
              "    <tr>\n",
              "      <th>104616</th>\n",
              "      <td>104616</td>\n",
              "      <td>162495</td>\n",
              "      <td>5.0</td>\n",
              "      <td>29530.0</td>\n",
              "      <td>51</td>\n",
              "      <td>483</td>\n",
              "      <td>60813.0</td>\n",
              "      <td>52284.334752</td>\n",
              "      <td>14.024411</td>\n",
              "    </tr>\n",
              "    <tr>\n",
              "      <th>104617</th>\n",
              "      <td>104617</td>\n",
              "      <td>21308</td>\n",
              "      <td>5.0</td>\n",
              "      <td>29735.0</td>\n",
              "      <td>51</td>\n",
              "      <td>483</td>\n",
              "      <td>60891.0</td>\n",
              "      <td>52803.533725</td>\n",
              "      <td>13.281875</td>\n",
              "    </tr>\n",
              "    <tr>\n",
              "      <th>104618</th>\n",
              "      <td>104618</td>\n",
              "      <td>148568</td>\n",
              "      <td>5.0</td>\n",
              "      <td>29041.0</td>\n",
              "      <td>51</td>\n",
              "      <td>483</td>\n",
              "      <td>61143.0</td>\n",
              "      <td>51058.675353</td>\n",
              "      <td>16.493016</td>\n",
              "    </tr>\n",
              "    <tr>\n",
              "      <th>104619</th>\n",
              "      <td>104619</td>\n",
              "      <td>135919</td>\n",
              "      <td>5.0</td>\n",
              "      <td>29358.0</td>\n",
              "      <td>51</td>\n",
              "      <td>483</td>\n",
              "      <td>61419.0</td>\n",
              "      <td>51851.172324</td>\n",
              "      <td>15.577961</td>\n",
              "    </tr>\n",
              "  </tbody>\n",
              "</table>\n",
              "</div>"
            ],
            "text/plain": [
              "         Index  Unnamed: 0  Rate   Review  Price  Left     Sold     pred_sold  \\\n",
              "104610  104610       76709   5.0  29297.0     51   483  59639.0  51698.086967   \n",
              "104611  104611       95761   5.0  28867.0     51   483  59649.0  50626.867306   \n",
              "104612  104612      121496   5.0  29992.0     51   483  60198.0  53458.964493   \n",
              "104613  104613       76975   5.0  29784.0     51   483  60223.0  52928.108975   \n",
              "104614  104614      150304   5.0  29887.0     51   483  60467.0  53190.569859   \n",
              "104615  104615       73998   5.0  29494.0     51   483  60484.0  52193.487738   \n",
              "104616  104616      162495   5.0  29530.0     51   483  60813.0  52284.334752   \n",
              "104617  104617       21308   5.0  29735.0     51   483  60891.0  52803.533725   \n",
              "104618  104618      148568   5.0  29041.0     51   483  61143.0  51058.675353   \n",
              "104619  104619      135919   5.0  29358.0     51   483  61419.0  51851.172324   \n",
              "\n",
              "          Diff(%)  \n",
              "104610  13.314967  \n",
              "104611  15.125371  \n",
              "104612  11.194783  \n",
              "104613  12.113131  \n",
              "104614  12.033721  \n",
              "104615  13.706951  \n",
              "104616  14.024411  \n",
              "104617  13.281875  \n",
              "104618  16.493016  \n",
              "104619  15.577961  "
            ]
          },
          "execution_count": 392,
          "metadata": {},
          "output_type": "execute_result"
        }
      ],
      "source": [
        "pred_df = df\n",
        "pred_df['pred_sold'] = yhat\n",
        "pred_df = pred_df.reset_index(drop=True)\n",
        "pred_df['Diff(%)'] = abs(pred_df['Sold']-pred_df['pred_sold'])/pred_df['Sold']*100\n",
        "pred_df.tail(10)"
      ]
    },
    {
      "cell_type": "markdown",
      "metadata": {},
      "source": [
        "### Average difference by polynomial regression model"
      ]
    },
    {
      "cell_type": "code",
      "execution_count": 395,
      "metadata": {},
      "outputs": [
        {
          "name": "stdout",
          "output_type": "stream",
          "text": [
            "Average Difference: 4.881412035514314\n"
          ]
        }
      ],
      "source": [
        "print(\"Average Difference: {}\" .format(pred_df['Diff(%)'].mean()))"
      ]
    },
    {
      "cell_type": "markdown",
      "metadata": {},
      "source": [
        "*From above results, the mean absolute error is 544.82 and the root mean squared error is 1032.188. And the average percent of difference between sold and predicted sold is 4.88%.*"
      ]
    }
  ],
  "metadata": {
    "colab": {
      "collapsed_sections": [],
      "name": "Untitled2.ipynb",
      "provenance": []
    },
    "interpreter": {
      "hash": "ccf87fb819cfde7e8d6a0443e9aa503909b6273dd0bad30f2b39dacf8c82dccd"
    },
    "kernelspec": {
      "display_name": "Python 3.10.4 64-bit",
      "language": "python",
      "name": "python3"
    },
    "language_info": {
      "codemirror_mode": {
        "name": "ipython",
        "version": 3
      },
      "file_extension": ".py",
      "mimetype": "text/x-python",
      "name": "python",
      "nbconvert_exporter": "python",
      "pygments_lexer": "ipython3",
      "version": "3.10.4"
    }
  },
  "nbformat": 4,
  "nbformat_minor": 0
}
